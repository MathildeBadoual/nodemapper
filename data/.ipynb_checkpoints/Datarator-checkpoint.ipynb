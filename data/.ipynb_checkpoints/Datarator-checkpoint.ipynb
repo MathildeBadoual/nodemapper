{
 "cells": [
  {
   "cell_type": "code",
   "execution_count": 4,
   "metadata": {},
   "outputs": [
    {
     "data": {
      "text/html": [
       "<div>\n",
       "<style>\n",
       "    .dataframe thead tr:only-child th {\n",
       "        text-align: right;\n",
       "    }\n",
       "\n",
       "    .dataframe thead th {\n",
       "        text-align: left;\n",
       "    }\n",
       "\n",
       "    .dataframe tbody tr th {\n",
       "        vertical-align: top;\n",
       "    }\n",
       "</style>\n",
       "<table border=\"1\" class=\"dataframe\">\n",
       "  <thead>\n",
       "    <tr style=\"text-align: right;\">\n",
       "      <th></th>\n",
       "    </tr>\n",
       "  </thead>\n",
       "  <tbody>\n",
       "  </tbody>\n",
       "</table>\n",
       "</div>"
      ],
      "text/plain": [
       "Empty DataFrame\n",
       "Columns: []\n",
       "Index: []"
      ]
     },
     "execution_count": 4,
     "metadata": {},
     "output_type": "execute_result"
    }
   ],
   "source": [
    "import pickle\n",
    "\n",
    "df = pickle.load( open( \"caisopickle.pickle\", \"rb\" ) )\n",
    "        \n",
    "df"
   ]
  },
  {
   "cell_type": "code",
   "execution_count": null,
   "metadata": {},
   "outputs": [],
   "source": [
    "#!/usr/bin/env python3\n",
    "'''\n",
    "Applied Machine Learning Final Project\n",
    "Pyiso script for gathering node data\n",
    "\n",
    "'''\n",
    "import os\n",
    "import time\n",
    "import calendar\n",
    "import pickle\n",
    "import datetime\n",
    "import logging\n",
    "import pandas as pd\n",
    "from pyiso import caiso\n",
    "\n",
    "# set up logging\n",
    "logging.basicConfig(filename='caiso_parser.log', level=logging.DEBUG)\n",
    "\n",
    "pd.set_option('display.max_columns', 0)\n",
    "# from CAISOClient import *\n",
    "\n",
    "path = os.getcwd()\n",
    "\n",
    "caiso_data = caiso.CAISOClient()\n",
    "caiso_data.timeout_seconds = 240\n",
    "\n",
    "caiso_data.handle_options(freq='1hr', market='DAM')\n",
    "\n",
    "# # Get node locations\n",
    "LMP_locs = pd.read_csv('LMP_locs.csv', sep=',')\n",
    "node_names = list(LMP_locs['node_id'].unique())\n",
    "\n",
    "# LMP DAMs\n",
    "num_nodes = len(node_names)\n",
    "lmpData = pd.DataFrame()\n",
    "\n",
    "\n",
    "def get_data(starttime, endtime):\n",
    "    for node_id in node_names: # Change start index if time out\n",
    "        logging.info(str(num_nodes-node_names.index(node_id)) + ' nodes left')\n",
    "        lmp = caiso_data.get_lmp_as_dataframe(node_id, False, starttime, endtime,\n",
    "                                              freq='1hr',\n",
    "                                              market='DAM',\n",
    "                                              market_run_id='DAM')\n",
    "        lmpData.append(lmp)\n",
    "        print(\"HORSE PARTY\")\n",
    "        print(lmp)\n",
    "        logging.info('Data saved, waiting 5 seconds.')\n",
    "        time.sleep(5)\n",
    "\n",
    "for year in range(2017, 2000, -1):\n",
    "    if year == 2017:\n",
    "        start_month = 10\n",
    "    else:\n",
    "        start_month = 12\n",
    "    for month in range(start_month, 0, -1):\n",
    "        month_end = calendar.monthrange(year, month)[1]\n",
    "        start = datetime.datetime(year, month, 1, 0).strftime('%Y-%m-%d %H:%M')\n",
    "        end = datetime.datetime(year, month, month_end, 23).strftime('%Y-%m-%d %H:%M')\n",
    "        start_c = caiso_data.utcify(start)\n",
    "        end_c = caiso_data.utcify(end)\n",
    "        print(\"Starting \", start, \" to \", end)\n",
    "        get_data(start_c, end_c)"
   ]
  },
  {
   "cell_type": "code",
   "execution_count": null,
   "metadata": {
    "collapsed": true
   },
   "outputs": [],
   "source": []
  }
 ],
 "metadata": {
  "kernelspec": {
   "display_name": "Python [conda root]",
   "language": "python",
   "name": "conda-root-py"
  },
  "language_info": {
   "codemirror_mode": {
    "name": "ipython",
    "version": 3
   },
   "file_extension": ".py",
   "mimetype": "text/x-python",
   "name": "python",
   "nbconvert_exporter": "python",
   "pygments_lexer": "ipython3",
   "version": "3.6.2"
  }
 },
 "nbformat": 4,
 "nbformat_minor": 2
}
